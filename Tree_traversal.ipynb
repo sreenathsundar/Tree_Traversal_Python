{
 "cells": [
  {
   "cell_type": "code",
   "execution_count": 1,
   "metadata": {
    "collapsed": true
   },
   "outputs": [],
   "source": [
    "#tree post order traversal"
   ]
  },
  {
   "cell_type": "code",
   "execution_count": 9,
   "metadata": {},
   "outputs": [
    {
     "name": "stdout",
     "output_type": "stream",
     "text": [
      "4\n",
      "2\n",
      "5\n",
      "1\n",
      "3\n",
      "---The preorder---\n",
      "\n",
      "1\n",
      "2\n",
      "4\n",
      "5\n",
      "3\n",
      "----The postoder---\n",
      "\n",
      "1\n",
      "2\n",
      "4\n",
      "5\n",
      "3\n"
     ]
    }
   ],
   "source": [
    "class Node:\n",
    "    def __init__(self,key):\n",
    "        self.left = None\n",
    "        self.right = None\n",
    "        self.val = key\n",
    "    \n",
    "def printinorder(root):\n",
    "    if root:\n",
    "        printinorder(root.left)\n",
    "        print(root.val)\n",
    "        printinorder(root.right)\n",
    "    else:\n",
    "        return\n",
    "    \n",
    "def printpreorder(root):\n",
    "    if (root):\n",
    "        print(root.val)\n",
    "        printpreorder(root.left)\n",
    "        printpreorder(root.right)\n",
    "    else:\n",
    "        return\n",
    "\n",
    "def printpostorder(root):\n",
    "    if (root):\n",
    "        print(root.val)\n",
    "        printpostorder(root.left)\n",
    "        printpostorder(root.right)\n",
    "    else:\n",
    "        return\n",
    "    \n",
    "\n",
    "#Main program\n",
    "root = Node(1)\n",
    "root.left = Node(2)\n",
    "root.right =  Node(3)\n",
    "root.left.left = Node(4)\n",
    "root.left.right = Node(5)\n",
    "\n",
    "printinorder(root)\n",
    "print('---The preorder---\\n')\n",
    "printpreorder(root)\n",
    "print('----The postoder---\\n')\n",
    "printpostorder(root)"
   ]
  },
  {
   "cell_type": "code",
   "execution_count": 3,
   "metadata": {},
   "outputs": [
    {
     "data": {
      "text/plain": [
       "[1, 2, 3, 4, 5, 6, 7]"
      ]
     },
     "execution_count": 3,
     "metadata": {},
     "output_type": "execute_result"
    }
   ],
   "source": [
    "#Test for no of steps\n",
    "lista = [i for i in range(1,9)]\n",
    "lista[::-1]"
   ]
  },
  {
   "cell_type": "code",
   "execution_count": 7,
   "metadata": {},
   "outputs": [
    {
     "name": "stdout",
     "output_type": "stream",
     "text": [
      "[-6, -4, -3, -2, -1, 1, 2, 3, 4, 5, 6]\n",
      "11\n",
      "The sum of index where sum is zero is -6,1 and 5\n",
      "The sum of index where sum is zero is -6,2 and 4\n",
      "The sum of index where sum is zero is -4,-2 and 6\n",
      "The sum of index where sum is zero is -4,-1 and 5\n",
      "The sum of index where sum is zero is -4,1 and 3\n",
      "The sum of index where sum is zero is -3,-2 and 5\n",
      "The sum of index where sum is zero is -3,-1 and 4\n",
      "The sum of index where sum is zero is -3,1 and 2\n",
      "The sum of index where sum is zero is -2,-1 and 3\n"
     ]
    }
   ],
   "source": [
    "def zerosum(alist):\n",
    "    alist.sort()\n",
    "    n = len(alist)\n",
    "    print(alist)\n",
    "    print(n)\n",
    "    found = False\n",
    "    sumno = 0\n",
    "    for i in range(0,n-1):\n",
    "        l = i+1\n",
    "        r = n-1\n",
    "        while l<r:\n",
    "            sumno = alist[i]+alist[l]+alist[r]\n",
    "            if sumno<0:\n",
    "                l+=1\n",
    "            elif sumno>0:\n",
    "                r-=1\n",
    "            else:\n",
    "                print(\"The sum of index where sum is zero is %d,%d and %d\" % (alist[i],alist[l],alist[r]))\n",
    "                l+=1\n",
    "                r-=1\n",
    "                found = True\n",
    "    if found == False:\n",
    "        print('----No elem Found-----')\n",
    "        \n",
    "        \n",
    "\n",
    "alist = [1,2,3,4,5,6,-6,-1,-3,-2,-4]\n",
    "zerosum(alist)    "
   ]
  },
  {
   "cell_type": "code",
   "execution_count": 12,
   "metadata": {},
   "outputs": [
    {
     "name": "stdout",
     "output_type": "stream",
     "text": [
      "[(8, 9), (5, 6), (3, 4), (2, 4), (1, 3)]\n"
     ]
    }
   ],
   "source": [
    "test_list = [(1,3),(3,4),(2,4),(5,6),(8,9)]\n",
    "merge_list = []\n",
    "trial_list = sorted(test_list, key = lambda x: x[0],reverse = True)\n",
    "print(trial_list)\n",
    "index = 0\n",
    "for i in range(0,len(merge_list)):\n",
    "    "
   ]
  },
  {
   "cell_type": "code",
   "execution_count": 20,
   "metadata": {},
   "outputs": [
    {
     "name": "stdout",
     "output_type": "stream",
     "text": [
      "9\n"
     ]
    }
   ],
   "source": [
    "#Implementation of longest repeated palindrome in string\n",
    "def lenpalindrome(a,i,j):\n",
    "    n = len(a)\n",
    "    count = 0\n",
    "    if i>j:\n",
    "        return\n",
    "    else:\n",
    "        if i==j:\n",
    "            return 1\n",
    "        else:\n",
    "            if a[i]!=a[j]:\n",
    "                return (max(lenpalindrome(a,i+1,j),lenpalindrome(a,i,j-1)))\n",
    "            elif (j==i+1):\n",
    "                return 2\n",
    "            else:\n",
    "                count = 2 + lenpalindrome(a,i+1,j-1)\n",
    "        return count\n",
    "\n",
    "a = 'MALAYALAM'\n",
    "n1 = len(a)\n",
    "print(lenpalindrome(a,0,n1-1))\n",
    "    \n",
    "    \n",
    "    "
   ]
  },
  {
   "cell_type": "code",
   "execution_count": null,
   "metadata": {},
   "outputs": [],
   "source": [
    "#lONGEST REPEATED SUBSEQUENCE\n",
    "def longrep(stra):\n",
    "    n = len(stra)\n",
    "    dp = [[0 for i in range(0,n+1)]for ]"
   ]
  },
  {
   "cell_type": "code",
   "execution_count": null,
   "metadata": {
    "collapsed": true
   },
   "outputs": [],
   "source": []
  }
 ],
 "metadata": {
  "kernelspec": {
   "display_name": "Python 3",
   "language": "python",
   "name": "python3"
  },
  "language_info": {
   "codemirror_mode": {
    "name": "ipython",
    "version": 3
   },
   "file_extension": ".py",
   "mimetype": "text/x-python",
   "name": "python",
   "nbconvert_exporter": "python",
   "pygments_lexer": "ipython3",
   "version": "3.6.3"
  }
 },
 "nbformat": 4,
 "nbformat_minor": 2
}
